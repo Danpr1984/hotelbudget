{
 "cells": [
  {
   "cell_type": "code",
   "execution_count": 6,
   "metadata": {},
   "outputs": [],
   "source": [
    "import numpy as np\n",
    "import pandas as pd\n",
    "import seaborn as sns\n",
    "import pingouin as pg\n",
    "import ppscore as pps\n",
    "import statsmodels.api as sm\n",
    "import matplotlib.pyplot as plt\n",
    "import feature_engine\n",
    "from datetime import timedelta\n",
    "from datetime import datetime\n",
    "from sklearn.impute import SimpleImputer\n",
    "from statsmodels.tsa.holtwinters import SimpleExpSmoothing\n",
    "from statsmodels.tsa.arima_model import ARIMA\n",
    "from statsmodels.tsa.statespace.sarimax import SARIMAX\n",
    "import sklearn\n",
    "from sklearn.cluster import KMeans\n",
    "from sklearn.pipeline import Pipeline\n",
    "from sklearn.preprocessing import StandardScaler\n",
    "from sklearn.feature_selection import SelectFromModel\n",
    "from sklearn.model_selection import train_test_split, GridSearchCV\n",
    "from sklearn.decomposition import PCA\n",
    "from feature_engine.imputation import MeanMedianImputer\n",
    "import math\n",
    "import joblib\n",
    "import pickle\n",
    "\n",
    "\n",
    "\n",
    "\n"
   ]
  },
  {
   "cell_type": "code",
   "execution_count": 7,
   "metadata": {},
   "outputs": [],
   "source": [
    "excel_file_path = 'budgetusd.xlsx'\n",
    "sheet_name = \"Expenses\"\n",
    "df = pd.read_excel(excel_file_path, sheet_name=sheet_name)\n",
    "# Load the Excel file into a pandas DataFrame\n"
   ]
  },
  {
   "cell_type": "code",
   "execution_count": 8,
   "metadata": {},
   "outputs": [],
   "source": [
    "# This function will remove decimal points\n",
    "\n",
    "def round_up_numeric(value):\n",
    "    if pd.notnull(value) and isinstance(value, (int, float)):\n",
    "        return math.ceil(value * 100) / 100\n",
    "    return value\n",
    "\n",
    "df =  df.applymap(round_up_numeric)"
   ]
  },
  {
   "cell_type": "code",
   "execution_count": 9,
   "metadata": {},
   "outputs": [],
   "source": [
    "# Convert 'Date' column to datetime\n",
    "df['Date'] = pd.to_datetime(df['Date'])\n",
    "\n",
    "# Set 'Date' as the index\n",
    "df.set_index('Date', inplace=True)\n"
   ]
  },
  {
   "cell_type": "code",
   "execution_count": 10,
   "metadata": {},
   "outputs": [
    {
     "name": "stdout",
     "output_type": "stream",
     "text": [
      "Duplicate Columns: Index([], dtype='object')\n"
     ]
    }
   ],
   "source": [
    "duplicate_cols = df.columns[df.columns.duplicated()]\n",
    "print(\"Duplicate Columns:\", duplicate_cols)"
   ]
  },
  {
   "cell_type": "code",
   "execution_count": 11,
   "metadata": {},
   "outputs": [
    {
     "data": {
      "text/plain": [
       "Resturant Revenue        0\n",
       "Bar Revenue              0\n",
       "Rooms Revenue            0\n",
       "Total Revenue            0\n",
       "Restaurant D.Cost        0\n",
       "Bar D.Cost               0\n",
       "Hotel D.Cost             0\n",
       "Total D. Costs           0\n",
       "Eventuals Wages          0\n",
       "Uniforms                 0\n",
       "Bonuses                  0\n",
       "Social Security          0\n",
       "Wages                    0\n",
       "Staff Food               0\n",
       "Total Wages              0\n",
       "Maintenance              0\n",
       "Electricity              0\n",
       "Accounting Services      0\n",
       "Water                    0\n",
       "Gas                      0\n",
       "Admin Expenses           0\n",
       "Cable & Internet         0\n",
       "Spotify                  0\n",
       "Telefono                 0\n",
       "Insuraces                0\n",
       "Transport                0\n",
       " Booking.com             0\n",
       "POS System               0\n",
       "Google Mail              0\n",
       "Marketing                0\n",
       "Little Hotelier          0\n",
       "Comisiones POS           0\n",
       "Total Indirect Costs     0\n",
       "Total Operating Costs    0\n",
       "GOP                      0\n",
       "dtype: int64"
      ]
     },
     "execution_count": 11,
     "metadata": {},
     "output_type": "execute_result"
    }
   ],
   "source": [
    "df.isnull().sum()"
   ]
  },
  {
   "cell_type": "code",
   "execution_count": 12,
   "metadata": {},
   "outputs": [
    {
     "name": "stdout",
     "output_type": "stream",
     "text": [
      "<class 'pandas.core.frame.DataFrame'>\n",
      "DatetimeIndex: 48 entries, 2022-01-01 to 2025-12-01\n",
      "Data columns (total 35 columns):\n",
      " #   Column                 Non-Null Count  Dtype  \n",
      "---  ------                 --------------  -----  \n",
      " 0   Resturant Revenue      48 non-null     float64\n",
      " 1   Bar Revenue            48 non-null     float64\n",
      " 2   Rooms Revenue          48 non-null     float64\n",
      " 3   Total Revenue          48 non-null     float64\n",
      " 4   Restaurant D.Cost      48 non-null     float64\n",
      " 5   Bar D.Cost             48 non-null     float64\n",
      " 6   Hotel D.Cost           48 non-null     float64\n",
      " 7   Total D. Costs         48 non-null     float64\n",
      " 8   Eventuals Wages        48 non-null     float64\n",
      " 9   Uniforms               48 non-null     float64\n",
      " 10  Bonuses                48 non-null     float64\n",
      " 11  Social Security        48 non-null     float64\n",
      " 12  Wages                  48 non-null     float64\n",
      " 13  Staff Food             48 non-null     float64\n",
      " 14  Total Wages            48 non-null     float64\n",
      " 15  Maintenance            48 non-null     float64\n",
      " 16  Electricity            48 non-null     float64\n",
      " 17  Accounting Services    48 non-null     float64\n",
      " 18  Water                  48 non-null     float64\n",
      " 19  Gas                    48 non-null     float64\n",
      " 20  Admin Expenses         48 non-null     float64\n",
      " 21  Cable & Internet       48 non-null     float64\n",
      " 22  Spotify                48 non-null     float64\n",
      " 23  Telefono               48 non-null     float64\n",
      " 24  Insuraces              48 non-null     float64\n",
      " 25  Transport              48 non-null     float64\n",
      " 26   Booking.com           48 non-null     float64\n",
      " 27  POS System             48 non-null     float64\n",
      " 28  Google Mail            48 non-null     float64\n",
      " 29  Marketing              48 non-null     float64\n",
      " 30  Little Hotelier        48 non-null     float64\n",
      " 31  Comisiones POS         48 non-null     float64\n",
      " 32  Total Indirect Costs   48 non-null     float64\n",
      " 33  Total Operating Costs  48 non-null     float64\n",
      " 34  GOP                    48 non-null     float64\n",
      "dtypes: float64(35)\n",
      "memory usage: 13.5 KB\n"
     ]
    }
   ],
   "source": [
    "df.info()"
   ]
  },
  {
   "cell_type": "code",
   "execution_count": null,
   "metadata": {},
   "outputs": [],
   "source": []
  }
 ],
 "metadata": {
  "kernelspec": {
   "display_name": "Python 3",
   "language": "python",
   "name": "python3"
  },
  "language_info": {
   "codemirror_mode": {
    "name": "ipython",
    "version": 3
   },
   "file_extension": ".py",
   "mimetype": "text/x-python",
   "name": "python",
   "nbconvert_exporter": "python",
   "pygments_lexer": "ipython3",
   "version": "3.11.1"
  },
  "orig_nbformat": 4
 },
 "nbformat": 4,
 "nbformat_minor": 2
}
