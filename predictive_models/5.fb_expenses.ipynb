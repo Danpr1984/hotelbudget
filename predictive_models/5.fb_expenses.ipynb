{
 "cells": [
  {
   "cell_type": "code",
   "execution_count": 1,
   "metadata": {},
   "outputs": [],
   "source": [
    "import numpy as np\n",
    "import pandas as pd\n",
    "import seaborn as sns\n",
    "import pingouin as pg\n",
    "import ppscore as pps\n",
    "import statsmodels.api as sm\n",
    "import matplotlib.pyplot as plt\n",
    "import feature_engine\n",
    "from datetime import timedelta\n",
    "from datetime import datetime\n",
    "from sklearn.impute import SimpleImputer\n",
    "from statsmodels.tsa.holtwinters import SimpleExpSmoothing\n",
    "from statsmodels.tsa.arima_model import ARIMA\n",
    "from statsmodels.tsa.statespace.sarimax import SARIMAX\n",
    "import sklearn\n",
    "from sklearn.cluster import KMeans\n",
    "from sklearn.pipeline import Pipeline\n",
    "from sklearn.preprocessing import StandardScaler\n",
    "from sklearn.feature_selection import SelectFromModel\n",
    "from sklearn.model_selection import train_test_split, GridSearchCV\n",
    "from sklearn.decomposition import PCA\n",
    "from feature_engine.imputation import MeanMedianImputer\n",
    "import math\n",
    "import joblib\n",
    "import pickle\n",
    "\n",
    "\n",
    "\n",
    "\n"
   ]
  },
  {
   "cell_type": "code",
   "execution_count": 2,
   "metadata": {},
   "outputs": [],
   "source": [
    "excel_file_path = '../budgetusd.xlsx'\n",
    "sheet_name = \"F&B Expenses\"\n",
    "df = pd.read_excel(excel_file_path, sheet_name=sheet_name)\n",
    "# Load the Excel file into a pandas DataFrame\n"
   ]
  },
  {
   "cell_type": "code",
   "execution_count": 3,
   "metadata": {},
   "outputs": [],
   "source": [
    "# Convert 'Date' column to datetime\n",
    "df['Date'] = pd.to_datetime(df['Date'])\n",
    "\n",
    "# Set 'Date' as the index\n",
    "df.set_index('Date', inplace=True)\n"
   ]
  },
  {
   "cell_type": "code",
   "execution_count": 4,
   "metadata": {},
   "outputs": [
    {
     "data": {
      "text/html": [
       "<div>\n",
       "<style scoped>\n",
       "    .dataframe tbody tr th:only-of-type {\n",
       "        vertical-align: middle;\n",
       "    }\n",
       "\n",
       "    .dataframe tbody tr th {\n",
       "        vertical-align: top;\n",
       "    }\n",
       "\n",
       "    .dataframe thead th {\n",
       "        text-align: right;\n",
       "    }\n",
       "</style>\n",
       "<table border=\"1\" class=\"dataframe\">\n",
       "  <thead>\n",
       "    <tr style=\"text-align: right;\">\n",
       "      <th></th>\n",
       "      <th>Percentage Rooms Occ %</th>\n",
       "      <th>F&amp;B Revenue</th>\n",
       "      <th>F&amp;B Expenses</th>\n",
       "    </tr>\n",
       "    <tr>\n",
       "      <th>Date</th>\n",
       "      <th></th>\n",
       "      <th></th>\n",
       "      <th></th>\n",
       "    </tr>\n",
       "  </thead>\n",
       "  <tbody>\n",
       "    <tr>\n",
       "      <th>2020-01-01</th>\n",
       "      <td>0.61</td>\n",
       "      <td>11744.194444</td>\n",
       "      <td>5247.944444</td>\n",
       "    </tr>\n",
       "    <tr>\n",
       "      <th>2020-02-01</th>\n",
       "      <td>0.62</td>\n",
       "      <td>9433.333333</td>\n",
       "      <td>5794.638889</td>\n",
       "    </tr>\n",
       "    <tr>\n",
       "      <th>2020-03-01</th>\n",
       "      <td>0.39</td>\n",
       "      <td>8833.083333</td>\n",
       "      <td>4194.444444</td>\n",
       "    </tr>\n",
       "    <tr>\n",
       "      <th>2020-04-01</th>\n",
       "      <td>0.70</td>\n",
       "      <td>18834.583333</td>\n",
       "      <td>7372.138889</td>\n",
       "    </tr>\n",
       "    <tr>\n",
       "      <th>2020-05-01</th>\n",
       "      <td>0.47</td>\n",
       "      <td>9258.350000</td>\n",
       "      <td>3003.001488</td>\n",
       "    </tr>\n",
       "    <tr>\n",
       "      <th>...</th>\n",
       "      <td>...</td>\n",
       "      <td>...</td>\n",
       "      <td>...</td>\n",
       "    </tr>\n",
       "    <tr>\n",
       "      <th>2025-08-01</th>\n",
       "      <td>0.62</td>\n",
       "      <td>11000.000000</td>\n",
       "      <td>4290.000000</td>\n",
       "    </tr>\n",
       "    <tr>\n",
       "      <th>2025-09-01</th>\n",
       "      <td>0.70</td>\n",
       "      <td>9799.792356</td>\n",
       "      <td>3821.919019</td>\n",
       "    </tr>\n",
       "    <tr>\n",
       "      <th>2025-10-01</th>\n",
       "      <td>0.40</td>\n",
       "      <td>7000.000000</td>\n",
       "      <td>2730.000000</td>\n",
       "    </tr>\n",
       "    <tr>\n",
       "      <th>2025-11-01</th>\n",
       "      <td>0.68</td>\n",
       "      <td>10405.889389</td>\n",
       "      <td>4058.296862</td>\n",
       "    </tr>\n",
       "    <tr>\n",
       "      <th>2025-12-01</th>\n",
       "      <td>0.89</td>\n",
       "      <td>15029.246222</td>\n",
       "      <td>5861.406027</td>\n",
       "    </tr>\n",
       "  </tbody>\n",
       "</table>\n",
       "<p>72 rows × 3 columns</p>\n",
       "</div>"
      ],
      "text/plain": [
       "            Percentage Rooms Occ %   F&B Revenue  F&B Expenses\n",
       "Date                                                          \n",
       "2020-01-01                    0.61  11744.194444   5247.944444\n",
       "2020-02-01                    0.62   9433.333333   5794.638889\n",
       "2020-03-01                    0.39   8833.083333   4194.444444\n",
       "2020-04-01                    0.70  18834.583333   7372.138889\n",
       "2020-05-01                    0.47   9258.350000   3003.001488\n",
       "...                            ...           ...           ...\n",
       "2025-08-01                    0.62  11000.000000   4290.000000\n",
       "2025-09-01                    0.70   9799.792356   3821.919019\n",
       "2025-10-01                    0.40   7000.000000   2730.000000\n",
       "2025-11-01                    0.68  10405.889389   4058.296862\n",
       "2025-12-01                    0.89  15029.246222   5861.406027\n",
       "\n",
       "[72 rows x 3 columns]"
      ]
     },
     "execution_count": 4,
     "metadata": {},
     "output_type": "execute_result"
    }
   ],
   "source": [
    "df"
   ]
  },
  {
   "cell_type": "code",
   "execution_count": 5,
   "metadata": {},
   "outputs": [
    {
     "name": "stdout",
     "output_type": "stream",
     "text": [
      "Mean Squared Error: 28245.7849268153\n",
      "R-squared: 0.9791487144190665\n"
     ]
    }
   ],
   "source": [
    "from sklearn.linear_model import LinearRegression\n",
    "from sklearn.model_selection import train_test_split\n",
    "from sklearn.metrics import mean_squared_error, r2_score\n",
    "\n",
    "# Assuming you have a DataFrame called 'df' with your data\n",
    "X = df[['F&B Revenue']]  # Independent variable\n",
    "y = df['F&B Expenses']    # Target variable\n",
    "\n",
    "# Split the data into training and testing sets\n",
    "X_train, X_test, y_train, y_test = train_test_split(X, y, test_size=0.2, random_state=0)\n",
    "\n",
    "# Create and train a linear regression model\n",
    "model = LinearRegression()\n",
    "model.fit(X_train, y_train)\n",
    "\n",
    "# Make predictions on the test set\n",
    "y_pred = model.predict(X_test)\n",
    "\n",
    "# Evaluate the model\n",
    "mse = mean_squared_error(y_test, y_pred)\n",
    "r2 = r2_score(y_test, y_pred)\n",
    "\n",
    "print(f\"Mean Squared Error: {mse}\")\n",
    "print(f\"R-squared: {r2}\")\n",
    "\n",
    "# You can use the 'model' to make predictions on new data\n"
   ]
  },
  {
   "cell_type": "code",
   "execution_count": 6,
   "metadata": {},
   "outputs": [
    {
     "data": {
      "text/plain": [
       "['fb_expenses_model.pkl']"
      ]
     },
     "execution_count": 6,
     "metadata": {},
     "output_type": "execute_result"
    }
   ],
   "source": [
    "import joblib\n",
    "\n",
    "# Save the trained model to a file\n",
    "model_filename = 'fb_expenses_model.pkl'\n",
    "joblib.dump(model, model_filename)\n"
   ]
  },
  {
   "cell_type": "code",
   "execution_count": 7,
   "metadata": {},
   "outputs": [],
   "source": [
    "import joblib\n",
    "\n",
    "# Load the saved model from the file\n",
    "model_filename = 'fb_expenses_model.pkl'\n",
    "loaded_model = joblib.load(model_filename)\n"
   ]
  },
  {
   "cell_type": "code",
   "execution_count": 8,
   "metadata": {},
   "outputs": [
    {
     "name": "stdout",
     "output_type": "stream",
     "text": [
      "Predicted F&B Expenses: 4002.2740045196147\n"
     ]
    }
   ],
   "source": [
    "# Save the trained model to a file (this step is done after training)\n",
    "import joblib\n",
    "\n",
    "# Load the saved model from the file (before making predictions)\n",
    "model_filename = 'fb_expenses_model.pkl'\n",
    "loaded_model = joblib.load(model_filename)\n",
    "\n",
    "# Prepare new data for prediction (replace with your actual data)\n",
    "import pandas as pd\n",
    "\n",
    "new_data = pd.DataFrame({'F&B Revenue': [10000]})\n",
    "\n",
    "# Use the loaded model to make predictions on new data\n",
    "y_pred_new = loaded_model.predict(new_data)\n",
    "\n",
    "# Inspect the predictions\n",
    "print(f\"Predicted F&B Expenses: {y_pred_new[0]}\")\n"
   ]
  },
  {
   "cell_type": "code",
   "execution_count": null,
   "metadata": {},
   "outputs": [],
   "source": []
  }
 ],
 "metadata": {
  "kernelspec": {
   "display_name": "Python 3",
   "language": "python",
   "name": "python3"
  },
  "language_info": {
   "codemirror_mode": {
    "name": "ipython",
    "version": 3
   },
   "file_extension": ".py",
   "mimetype": "text/x-python",
   "name": "python",
   "nbconvert_exporter": "python",
   "pygments_lexer": "ipython3",
   "version": "3.11.1"
  },
  "orig_nbformat": 4
 },
 "nbformat": 4,
 "nbformat_minor": 2
}
